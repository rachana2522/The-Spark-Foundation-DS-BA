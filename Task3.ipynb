{
  "nbformat": 4,
  "nbformat_minor": 0,
  "metadata": {
    "colab": {
      "name": "Task3.ipynb",
      "provenance": [],
      "collapsed_sections": [],
      "authorship_tag": "ABX9TyM9dFBp4ZJpBPEAMR1q1w0q",
      "include_colab_link": true
    },
    "kernelspec": {
      "name": "python3",
      "display_name": "Python 3"
    },
    "language_info": {
      "name": "python"
    }
  },
  "cells": [
    {
      "cell_type": "markdown",
      "metadata": {
        "id": "view-in-github",
        "colab_type": "text"
      },
      "source": [
        "<a href=\"https://colab.research.google.com/github/rachana2522/The-Spark-Foundation-DS-BA/blob/main/Task3.ipynb\" target=\"_parent\"><img src=\"https://colab.research.google.com/assets/colab-badge.svg\" alt=\"Open In Colab\"/></a>"
      ]
    },
    {
      "cell_type": "markdown",
      "metadata": {
        "id": "IDa_hXWhEzc9"
      },
      "source": [
        ""
      ]
    },
    {
      "cell_type": "markdown",
      "metadata": {
        "id": "RqjamCFZE0ia"
      },
      "source": [
        "The Sparks Foundation\n",
        "\n",
        "GRIPSEPTEMBER2021\n",
        "\n",
        "Name: Rachana priyadarshni samal\n",
        "\n",
        "Data Science & Business Analytics Intern\n",
        "\n",
        "Task 3:Exploratory Data Analysis - Retail\n",
        "\n",
        "Task Description:Perform ‘Exploratory Data Analysis’ on dataset ‘SampleSuperstore’"
      ]
    },
    {
      "cell_type": "markdown",
      "metadata": {
        "id": "Z3D1RhxoFCrS"
      },
      "source": [
        "\n",
        "Lets import important libraries first!"
      ]
    },
    {
      "cell_type": "code",
      "metadata": {
        "colab": {
          "base_uri": "https://localhost:8080/"
        },
        "id": "Z19YjGjnE-jX",
        "outputId": "1b78ab8d-d55a-4c72-cb48-42159f2f30dd"
      },
      "source": [
        "import numpy as np\n",
        "import pandas as pd\n",
        "import seaborn as sns\n",
        "import matplotlib.pyplot as plt\n",
        "import plotly.express as px\n",
        "import warnings\n",
        "warnings.filterwarnings('ignore')\n",
        "print(\"The libraries are imported 100%\")"
      ],
      "execution_count": 1,
      "outputs": [
        {
          "output_type": "stream",
          "name": "stdout",
          "text": [
            "The libraries are imported 100%\n"
          ]
        }
      ]
    },
    {
      "cell_type": "markdown",
      "metadata": {
        "id": "tB8BJ1PVFQi0"
      },
      "source": [
        "\n",
        "Lets import the dataset now!"
      ]
    }
  ]
}